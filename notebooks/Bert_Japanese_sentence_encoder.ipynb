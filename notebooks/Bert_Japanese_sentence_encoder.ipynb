{
 "cells": [
  {
   "cell_type": "markdown",
   "metadata": {},
   "source": [
    "# Using BERT for Japanese\n",
    "\n",
    "In this notebook, we will try to test new BERT model for Japanese language in the `transformers` library."
   ]
  },
  {
   "cell_type": "markdown",
   "metadata": {},
   "source": [
    "Now let's try to use Japanese tokenization in BERT."
   ]
  },
  {
   "cell_type": "code",
   "execution_count": 1,
   "metadata": {},
   "outputs": [],
   "source": [
    "import torch\n",
    "from transformers import BertJapaneseTokenizer, BertModel, BertTokenizer, MecabTokenizer"
   ]
  },
  {
   "cell_type": "code",
   "execution_count": 8,
   "metadata": {},
   "outputs": [],
   "source": [
    "tokenizer = BertJapaneseTokenizer.from_pretrained('bert-base-japanese', word_tokenizer_type='mecab', do_lower_case=False)"
   ]
  },
  {
   "cell_type": "code",
   "execution_count": 16,
   "metadata": {},
   "outputs": [
    {
     "data": {
      "text/plain": [
       "[2, 10350, 25746, 28450, 6, 324, 8, 10350, 14815, 28450, 6, 324, 8, 3]"
      ]
     },
     "execution_count": 16,
     "metadata": {},
     "output_type": "execute_result"
    }
   ],
   "source": [
    "tokenizer.build_inputs_with_special_tokens(tokenizer.convert_tokens_to_ids(tokenizer.tokenize(\"こんにちは、世界。こんばんは、世界。\")))"
   ]
  },
  {
   "cell_type": "code",
   "execution_count": 17,
   "metadata": {},
   "outputs": [
    {
     "data": {
      "text/plain": [
       "[10350, 25746, 28450, 6, 324, 8, 10350, 14815, 28450, 6, 324, 8]"
      ]
     },
     "execution_count": 17,
     "metadata": {},
     "output_type": "execute_result"
    }
   ],
   "source": [
    "tokenizer.convert_tokens_to_ids(tokenizer.tokenize(\"こんにちは、世界。こんばんは、世界。\"))"
   ]
  },
  {
   "cell_type": "code",
   "execution_count": 3,
   "metadata": {},
   "outputs": [
    {
     "name": "stdout",
     "output_type": "stream",
     "text": [
      "['数学', 'の', '最も', '普通', 'の', '定義', 'として', 'は', '、', '「', '数', 'および', '図形', 'について', 'の', '学問', '」', 'という', 'もの', 'が', 'ある', '。']\n"
     ]
    }
   ],
   "source": [
    "# tokenize input\n",
    "text = \"数学の最も普通の定義としては、「数および図形についての学問」というものがある。\"\n",
    "tokenized_text = tokenizer.tokenize(text)\n",
    "print(tokenized_text)"
   ]
  },
  {
   "cell_type": "code",
   "execution_count": 4,
   "metadata": {},
   "outputs": [
    {
     "name": "stdout",
     "output_type": "stream",
     "text": [
      "['他', '主要', '言語', '圏', 'において', 'も', '同様', 'で', 'ある', '。']\n"
     ]
    }
   ],
   "source": [
    "print(tokenizer.tokenize(\"他主要言語圏においても同様である。\"))"
   ]
  },
  {
   "cell_type": "code",
   "execution_count": 5,
   "metadata": {},
   "outputs": [
    {
     "name": "stdout",
     "output_type": "stream",
     "text": [
      "['こん', '##にち', '##は', '、', '世界', '。', 'こん', '##ばん', '##は', '、', '世界', '。']\n"
     ]
    }
   ],
   "source": [
    "text = \"こんにちは、世界。\\nこんばんは、世界。\"\n",
    "tokenized_text = tokenizer.tokenize(text)\n",
    "print(tokenized_text)"
   ]
  },
  {
   "cell_type": "code",
   "execution_count": 6,
   "metadata": {},
   "outputs": [
    {
     "name": "stdout",
     "output_type": "stream",
     "text": [
      "510\n"
     ]
    }
   ],
   "source": [
    "print(tokenizer.max_len_single_sentence)"
   ]
  },
  {
   "cell_type": "code",
   "execution_count": 5,
   "metadata": {},
   "outputs": [
    {
     "data": {
      "text/plain": [
       "[10350, 25746, 28450, 6, 324, 8, 10350, 14815, 28450, 6, 324, 8]"
      ]
     },
     "execution_count": 5,
     "metadata": {},
     "output_type": "execute_result"
    }
   ],
   "source": [
    "text = tokenizer.encode(\"こんにちは、世界。\\nこんばんは、世界。\", add_special_tokens=False)\n",
    "text"
   ]
  },
  {
   "cell_type": "code",
   "execution_count": 6,
   "metadata": {},
   "outputs": [
    {
     "data": {
      "text/plain": [
       "[2, 10350, 25746, 28450, 6, 324, 8, 10350, 14815, 28450, 6, 324, 8, 3]"
      ]
     },
     "execution_count": 6,
     "metadata": {},
     "output_type": "execute_result"
    }
   ],
   "source": [
    "text = tokenizer.encode(\"こんにちは、世界。\\nこんばんは、世界。\", add_special_tokens=True)\n",
    "text"
   ]
  },
  {
   "cell_type": "code",
   "execution_count": 7,
   "metadata": {},
   "outputs": [
    {
     "name": "stdout",
     "output_type": "stream",
     "text": [
      "['こん', '##にち', '##は', '、', '世界', '。']\n",
      "[10350, 25746, 28450, 6, 324, 8]\n"
     ]
    }
   ],
   "source": [
    "text = \"こんにちは、世界。\"\n",
    "tokenized_text = tokenizer.tokenize(text)\n",
    "print(tokenized_text)\n",
    "input_ids = tokenizer.convert_tokens_to_ids(tokenized_text)\n",
    "print(input_ids)"
   ]
  },
  {
   "cell_type": "markdown",
   "metadata": {},
   "source": [
    "Now, we are going to tokenize the text with MeCab before tokenizing using BERT."
   ]
  },
  {
   "cell_type": "code",
   "execution_count": 8,
   "metadata": {},
   "outputs": [
    {
     "data": {
      "text/plain": [
       "'[CLS] こんにちは 、 世界 。 [SEP]'"
      ]
     },
     "execution_count": 8,
     "metadata": {},
     "output_type": "execute_result"
    }
   ],
   "source": [
    "text = \"こんにちは、世界。\"\n",
    "mecab_tokenizer = MecabTokenizer()\n",
    "text_ = mecab_tokenizer.tokenize(text)\n",
    "text_ = ' '.join(text_)\n",
    "text_ = '[CLS] ' + text_ + ' [SEP]'\n",
    "text_"
   ]
  },
  {
   "cell_type": "code",
   "execution_count": 9,
   "metadata": {},
   "outputs": [
    {
     "name": "stdout",
     "output_type": "stream",
     "text": [
      "['[CLS]', 'こん', '##にち', '##は', '、', '世界', '。', '[SEP]']\n"
     ]
    }
   ],
   "source": [
    "tokenizer = BertJapaneseTokenizer.from_pretrained('bert-base-japanese', word_tokenizer_type='basic')\n",
    "tokenized_text = tokenizer.tokenize(text_)\n",
    "print(tokenized_text)"
   ]
  },
  {
   "cell_type": "markdown",
   "metadata": {},
   "source": [
    "Let's try to encode sentence with pre-trained Japanese BERT model."
   ]
  },
  {
   "cell_type": "code",
   "execution_count": null,
   "metadata": {},
   "outputs": [],
   "source": [
    "model = BertModel.from_pretrained('bert-base-japanese')\n",
    "model.eval()"
   ]
  },
  {
   "cell_type": "markdown",
   "metadata": {},
   "source": [
    "Let's try to encode the sentence with pre-trained Japanese BERT model."
   ]
  },
  {
   "cell_type": "code",
   "execution_count": null,
   "metadata": {},
   "outputs": [],
   "source": [
    "input_ids = tokenizer.convert_tokens_to_ids(tokenized_text)\n",
    "input_ids"
   ]
  },
  {
   "cell_type": "code",
   "execution_count": null,
   "metadata": {},
   "outputs": [],
   "source": [
    "tokens_tensor = torch.tensor([input_ids])\n",
    "tokens_tensor.shape"
   ]
  },
  {
   "cell_type": "markdown",
   "metadata": {},
   "source": [
    "Let's try to add some special tokens into the input text."
   ]
  },
  {
   "cell_type": "code",
   "execution_count": null,
   "metadata": {},
   "outputs": [],
   "source": [
    "text = '[CLS] [<S>] こんにちは [<S>] 、 [<O>] 世界 [<O>] 。 [SEP]'\n",
    "tokenizer.add_tokens(['[<S>]', '[<O>]'])"
   ]
  },
  {
   "cell_type": "code",
   "execution_count": null,
   "metadata": {},
   "outputs": [],
   "source": [
    "tokenized_text = tokenizer.tokenize(text)\n",
    "tokenized_text"
   ]
  },
  {
   "cell_type": "code",
   "execution_count": null,
   "metadata": {},
   "outputs": [],
   "source": [
    "input_ids = tokenizer.convert_tokens_to_ids(tokenized_text)\n",
    "input_ids"
   ]
  },
  {
   "cell_type": "code",
   "execution_count": null,
   "metadata": {},
   "outputs": [],
   "source": [
    "model.resize_token_embeddings(len(tokenizer))"
   ]
  },
  {
   "cell_type": "code",
   "execution_count": null,
   "metadata": {},
   "outputs": [],
   "source": [
    "# Predict hidden states features for each layer\n",
    "with torch.no_grad():\n",
    "    encoded_layers, hidden = model(tokens_tensor)\n",
    "assert len(encoded_layers) == 1\n",
    "print(encoded_layers[0].size())\n",
    "print(hidden.size())\n",
    "print(encoded_layers[0][-1,:].size())"
   ]
  },
  {
   "cell_type": "markdown",
   "metadata": {},
   "source": [
    "## Trying BERT model from Kyoto University\n",
    "\n",
    "In ordder to use the new version `transformers`, we need to download the new version of pre-trained Japanese BERT model [here](http://nlp.ist.i.kyoto-u.ac.jp/index.php?BERT%E6%97%A5%E6%9C%AC%E8%AA%9EPretrained%E3%83%A2%E3%83%87%E3%83%AB). We do not need to comment out the line `# text = self._tokenize_chinese_chars(text)`."
   ]
  },
  {
   "cell_type": "code",
   "execution_count": null,
   "metadata": {},
   "outputs": [],
   "source": [
    "from pyknp import Juman\n",
    "jumanpp = Juman()\n",
    "\n",
    "def tokenize(text):\n",
    "    result = jumanpp.analysis(text)\n",
    "    tokens = []\n",
    "    for mrph in result.mrph_list():\n",
    "        tokens.append(mrph.midasi)\n",
    "    return ' '.join(tokens)\n",
    "        \n",
    "path_to_pretrained_model = '/Users/minhpqn/nlp/data/japanese/bert/kyodai_bert/Japanese_L-12_H-768_A-12_E-30_BPE_transformers'\n",
    "\n",
    "# Load pre-trained model tokenizer (vocabulary)\n",
    "tokenizer = BertTokenizer.from_pretrained(path_to_pretrained_model, do_lower_case=False)\n",
    "\n",
    "# Tokenized input\n",
    "text = \"数学の最も普通の定義としては、「数および図形についての学問」というものがある。\"\n",
    "text = tokenize(text)\n",
    "text = '[CLS] ' + text + ' [SEP]'\n",
    "tokenized_text = tokenizer.tokenize(text)\n",
    "print(tokenized_text)\n",
    "\n",
    "indexed_tokens = tokenizer.convert_tokens_to_ids(tokenized_text)\n",
    "tokens_tensor = torch.tensor([indexed_tokens])\n",
    "\n",
    "print(indexed_tokens)\n",
    "print(tokens_tensor.size())\n",
    "print(tokens_tensor)"
   ]
  },
  {
   "cell_type": "code",
   "execution_count": null,
   "metadata": {},
   "outputs": [],
   "source": [
    "# Load pre-trained model (weights)\n",
    "model = BertModel.from_pretrained(path_to_pretrained_model, cache_dir=None)\n",
    "model.eval()"
   ]
  },
  {
   "cell_type": "code",
   "execution_count": null,
   "metadata": {},
   "outputs": [],
   "source": [
    "# Predict hidden states features for each layer\n",
    "with torch.no_grad():\n",
    "    encoded_layers, hidden = model(tokens_tensor)\n",
    "assert len(encoded_layers) == 1\n",
    "print(encoded_layers[0].size())\n",
    "print(hidden.size())\n",
    "print(encoded_layers[0][-1,:].size())"
   ]
  },
  {
   "cell_type": "code",
   "execution_count": null,
   "metadata": {},
   "outputs": [],
   "source": [
    "encoder_layers[:, 0]"
   ]
  },
  {
   "cell_type": "code",
   "execution_count": null,
   "metadata": {},
   "outputs": [],
   "source": []
  }
 ],
 "metadata": {
  "kernelspec": {
   "display_name": "Python 3",
   "language": "python",
   "name": "python3"
  },
  "language_info": {
   "codemirror_mode": {
    "name": "ipython",
    "version": 3
   },
   "file_extension": ".py",
   "mimetype": "text/x-python",
   "name": "python",
   "nbconvert_exporter": "python",
   "pygments_lexer": "ipython3",
   "version": "3.6.9"
  }
 },
 "nbformat": 4,
 "nbformat_minor": 2
}
